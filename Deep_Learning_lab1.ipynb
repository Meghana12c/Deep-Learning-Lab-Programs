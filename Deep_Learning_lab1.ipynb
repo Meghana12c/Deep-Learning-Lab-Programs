{
  "nbformat": 4,
  "nbformat_minor": 0,
  "metadata": {
    "colab": {
      "provenance": [],
      "authorship_tag": "ABX9TyMrGKb6OiOAUuyFnYudcuxB",
      "include_colab_link": true
    },
    "kernelspec": {
      "name": "python3",
      "display_name": "Python 3"
    },
    "language_info": {
      "name": "python"
    }
  },
  "cells": [
    {
      "cell_type": "markdown",
      "metadata": {
        "id": "view-in-github",
        "colab_type": "text"
      },
      "source": [
        "<a href=\"https://colab.research.google.com/github/Meghana12c/Deep-Learning-Lab-Programs/blob/main/Deep_Learning_lab1.ipynb\" target=\"_parent\"><img src=\"https://colab.research.google.com/assets/colab-badge.svg\" alt=\"Open In Colab\"/></a>"
      ]
    },
    {
      "cell_type": "code",
      "execution_count": 1,
      "metadata": {
        "colab": {
          "base_uri": "https://localhost:8080/"
        },
        "id": "d-sh99XNXWy_",
        "outputId": "12ae16df-fd3f-4984-ccd8-5e7d9ba9366c"
      },
      "outputs": [
        {
          "output_type": "stream",
          "name": "stdout",
          "text": [
            "Scalar value: 5\n"
          ]
        }
      ],
      "source": [
        "import numpy as np\n",
        "# Scalar example\n",
        "scalar = np.array(5)\n",
        "print(\"Scalar value:\", scalar)"
      ]
    },
    {
      "cell_type": "markdown",
      "source": [
        "Lab 1\n"
      ],
      "metadata": {
        "id": "mHWn4CDlvOzx"
      }
    },
    {
      "cell_type": "code",
      "execution_count": 2,
      "metadata": {
        "colab": {
          "base_uri": "https://localhost:8080/"
        },
        "id": "7Yk3iTZXX1Ka",
        "outputId": "377c0667-8613-4a1e-ece2-9431d849f08f"
      },
      "outputs": [
        {
          "output_type": "stream",
          "name": "stdout",
          "text": [
            "Scalar value: 5\n",
            "Vector values: [1 2 3]\n",
            "2D Tensor (Matrix):\n",
            " [[1 2 3]\n",
            " [4 5 6]]\n",
            "3D Tensor:\n",
            " [[[ 1  2  3]\n",
            "  [ 4  5  6]]\n",
            "\n",
            " [[ 7  8  9]\n",
            "  [10 11 12]]]\n",
            "Shape of 4D Tensor: (2, 3, 4, 5)\n"
          ]
        }
      ],
      "source": [
        "import numpy as np\n",
        "\n",
        "# Scalar example\n",
        "scalar = np.array(5)\n",
        "print(\"Scalar value:\", scalar)\n",
        "\n",
        "# Vector example\n",
        "vector = np.array([1, 2, 3])\n",
        "print(\"Vector values:\", vector)\n",
        "\n",
        "# 2D Tensor (Matrix) example\n",
        "matrix = np.array([[1, 2, 3], [4, 5, 6]])\n",
        "print(\"2D Tensor (Matrix):\\n\", matrix)\n",
        "\n",
        "# 3D Tensor example\n",
        "tensor_3d = np.array([[[1, 2, 3], [4, 5, 6]], [[7, 8, 9], [10, 11, 12]]])\n",
        "print(\"3D Tensor:\\n\", tensor_3d)\n",
        "\n",
        "# 4D Tensor example\n",
        "tensor_4d = np.random.rand(2, 3, 4, 5)\n",
        "print(\"Shape of 4D Tensor:\", tensor_4d.shape)\n"
      ]
    },
    {
      "cell_type": "markdown",
      "source": [
        "Program to predict sum of two numbers\n"
      ],
      "metadata": {
        "id": "69pIjfjivkwk"
      }
    },
    {
      "cell_type": "code",
      "source": [
        "import numpy as np\n",
        "from tensorflow.keras.models import Sequential\n",
        "from tensorflow.keras.layers import Dense\n",
        "from sklearn.model_selection import train_test_split\n",
        "\n",
        "# Step 1: Generate Training Data\n",
        "def generate_data(num_samples):\n",
        "    x1 = np.random.randint(0, 100, size=num_samples)\n",
        "    x2 = np.random.randint(0, 100, size=num_samples)\n",
        "    y = x1 + x2\n",
        "    return np.vstack((x1, x2)).T, y\n",
        "\n",
        "num_samples = 10000\n",
        "X, y = generate_data(num_samples)\n",
        "\n",
        "# Split the data into training and testing sets\n",
        "X_train, X_test, y_train, y_test = train_test_split(X, y, test_size=0.2, random_state=42)\n",
        "\n",
        "# Step 2: Define the Model\n",
        "model = Sequential()\n",
        "model.add(Dense(10, input_dim=2, activation='relu'))  # Input layer with 2 inputs\n",
        "model.add(Dense(5, activation='relu'))  # Hidden layer\n",
        "model.add(Dense(1))  # Output layer\n",
        "\n",
        "# Step 3: Compile the Model\n",
        "model.compile(optimizer='adam', loss='mean_squared_error')\n",
        "\n",
        "# Step 4: Train the Model\n",
        "model.fit(X_train, y_train, epochs=5, batch_size=64, validation_split=0.3)\n",
        "\n",
        "# Step 5: Evaluate the Model\n",
        "loss = model.evaluate(X_test, y_test)\n",
        "print(f'Test Loss: {loss}')\n",
        "\n",
        "# Make a prediction\n",
        "sample_input = np.array([[23, 45]])  # Example input\n",
        "predicted_sum = model.predict(sample_input)\n",
        "print(f'Predicted Sum: {predicted_sum[0][0]}')\n"
      ],
      "metadata": {
        "id": "I7NLkbykUOee",
        "colab": {
          "base_uri": "https://localhost:8080/"
        },
        "outputId": "11d74320-8566-43c0-904f-9ebc7427b7e8"
      },
      "execution_count": 3,
      "outputs": [
        {
          "output_type": "stream",
          "name": "stdout",
          "text": [
            "Epoch 1/5\n",
            "88/88 [==============================] - 1s 5ms/step - loss: 7046.8672 - val_loss: 2831.8740\n",
            "Epoch 2/5\n",
            "88/88 [==============================] - 0s 2ms/step - loss: 1157.4276 - val_loss: 345.1218\n",
            "Epoch 3/5\n",
            "88/88 [==============================] - 0s 3ms/step - loss: 211.8691 - val_loss: 113.0675\n",
            "Epoch 4/5\n",
            "88/88 [==============================] - 0s 3ms/step - loss: 79.2248 - val_loss: 47.4369\n",
            "Epoch 5/5\n",
            "88/88 [==============================] - 0s 3ms/step - loss: 36.7775 - val_loss: 24.9215\n",
            "63/63 [==============================] - 0s 1ms/step - loss: 27.3516\n",
            "Test Loss: 27.35163116455078\n",
            "1/1 [==============================] - 0s 88ms/step\n",
            "Predicted Sum: 68.32715606689453\n"
          ]
        }
      ]
    },
    {
      "cell_type": "code",
      "source": [
        "import numpy as np\n",
        "from tensorflow.keras.models import Sequential\n",
        "from tensorflow.keras.layers import Dense\n",
        "from sklearn.model_selection import train_test_split\n",
        "\n",
        "# Step 1: Generate Training Data\n",
        "def generate_data(num_samples):\n",
        "    x1 = np.random.randint(0, 100, size=num_samples)\n",
        "    x2 = np.random.randint(0, 100, size=num_samples)\n",
        "    y = x1 + x2\n",
        "    return np.vstack((x1, x2)).T, y\n",
        "\n",
        "num_samples = 10000\n",
        "X, y = generate_data(num_samples)\n",
        "\n",
        "# Split the data into training and testing sets\n",
        "X_train, X_test, y_train, y_test = train_test_split(X, y, test_size=0.2, random_state=42)\n",
        "\n",
        "# Step 2: Define the Model\n",
        "model = Sequential()\n",
        "model.add(Dense(10, input_dim=2, activation='relu'))  # Input layer with 2 inputs\n",
        "model.add(Dense(5, activation='relu'))  # Hidden layer\n",
        "model.add(Dense(1))  # Output layer\n",
        "\n",
        "# Step 3: Compile the Model\n",
        "model.compile(optimizer='adam', loss='mean_squared_error')\n",
        "\n",
        "# Step 4: Train the Model\n",
        "model.fit(X_train, y_train, epochs=8, batch_size=75, validation_split=0.5)\n",
        "\n",
        "# Step 5: Evaluate the Model\n",
        "loss = model.evaluate(X_test, y_test)\n",
        "print(f'Test Loss: {loss}')\n",
        "\n",
        "# Make a prediction\n",
        "sample_input = np.array([[23, 45]])  # Example input\n",
        "predicted_sum = model.predict(sample_input)\n",
        "print(f'Predicted Sum: {predicted_sum[0][0]}')\n"
      ],
      "metadata": {
        "colab": {
          "base_uri": "https://localhost:8080/"
        },
        "outputId": "f016a7bf-9438-4d2f-d662-7aac0115eb6c",
        "id": "ZWyMFMcwwXM4"
      },
      "execution_count": 4,
      "outputs": [
        {
          "output_type": "stream",
          "name": "stdout",
          "text": [
            "Epoch 1/8\n",
            "54/54 [==============================] - 1s 8ms/step - loss: 9958.1074 - val_loss: 7906.5112\n",
            "Epoch 2/8\n",
            "54/54 [==============================] - 0s 4ms/step - loss: 5946.4751 - val_loss: 3603.1567\n",
            "Epoch 3/8\n",
            "54/54 [==============================] - 0s 5ms/step - loss: 1844.8521 - val_loss: 449.2757\n",
            "Epoch 4/8\n",
            "54/54 [==============================] - 0s 3ms/step - loss: 188.6926 - val_loss: 62.9943\n",
            "Epoch 5/8\n",
            "54/54 [==============================] - 0s 4ms/step - loss: 36.9931 - val_loss: 20.9941\n",
            "Epoch 6/8\n",
            "54/54 [==============================] - 0s 6ms/step - loss: 17.6318 - val_loss: 14.2978\n",
            "Epoch 7/8\n",
            "54/54 [==============================] - 0s 5ms/step - loss: 13.6018 - val_loss: 12.0459\n",
            "Epoch 8/8\n",
            "54/54 [==============================] - 0s 6ms/step - loss: 11.9069 - val_loss: 10.8026\n",
            "63/63 [==============================] - 0s 2ms/step - loss: 10.6157\n",
            "Test Loss: 10.61569881439209\n",
            "1/1 [==============================] - 0s 84ms/step\n",
            "Predicted Sum: 66.21331024169922\n"
          ]
        }
      ]
    }
  ]
}