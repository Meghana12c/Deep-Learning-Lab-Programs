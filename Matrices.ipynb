{
  "nbformat": 4,
  "nbformat_minor": 0,
  "metadata": {
    "colab": {
      "provenance": [],
      "authorship_tag": "ABX9TyNqj3jrdzvQZBtXOuycCuvi",
      "include_colab_link": true
    },
    "kernelspec": {
      "name": "python3",
      "display_name": "Python 3"
    },
    "language_info": {
      "name": "python"
    }
  },
  "cells": [
    {
      "cell_type": "markdown",
      "metadata": {
        "id": "view-in-github",
        "colab_type": "text"
      },
      "source": [
        "<a href=\"https://colab.research.google.com/github/Meghana12c/Deep-Learning-Programs/blob/main/Matrices.ipynb\" target=\"_parent\"><img src=\"https://colab.research.google.com/assets/colab-badge.svg\" alt=\"Open In Colab\"/></a>"
      ]
    },
    {
      "cell_type": "markdown",
      "source": [
        "Addition of Matrices\n"
      ],
      "metadata": {
        "id": "i_EJcUpaT93R"
      }
    },
    {
      "cell_type": "code",
      "source": [
        "def create_matrix(rows, cols):\n",
        "    matrix = []\n",
        "    print(f\"Enter the elements of the {rows}x{cols} matrix:\")\n",
        "    for i in range(rows):\n",
        "        row = list(map(int, input(f\"Row {i + 1}: \").split()))\n",
        "        if len(row) != cols:\n",
        "            print(f\"Please enter exactly {cols} numbers.\")\n",
        "            return create_matrix(rows, cols)\n",
        "        matrix.append(row)\n",
        "    return matrix\n",
        "\n",
        "def add_matrices(matrix1, matrix2):\n",
        "    return [[matrix1[i][j] + matrix2[i][j] for j in range(len(matrix1[0]))] for i in range(len(matrix1))]\n",
        "\n",
        "def main():\n",
        "    rows = int(input(\"Enter number of rows: \"))\n",
        "    cols = int(input(\"Enter number of columns: \"))\n",
        "\n",
        "    print(\"Matrix 1:\")\n",
        "    matrix1 = create_matrix(rows, cols)\n",
        "\n",
        "    print(\"Matrix 2:\")\n",
        "    matrix2 = create_matrix(rows, cols)\n",
        "\n",
        "    result_matrix = add_matrices(matrix1, matrix2)\n",
        "\n",
        "    print(\"\\nMatrix 1:\")\n",
        "    for row in matrix1:\n",
        "        print(row)\n",
        "\n",
        "    print(\"\\nMatrix 2:\")\n",
        "    for row in matrix2:\n",
        "        print(row)\n",
        "\n",
        "    print(\"\\nResultant Matrix after Addition:\")\n",
        "    for row in result_matrix:\n",
        "        print(row)\n",
        "\n",
        "if __name__ == \"__main__\":\n",
        "    main()\n"
      ],
      "metadata": {
        "colab": {
          "base_uri": "https://localhost:8080/"
        },
        "id": "YHgmO8v-Jbq4",
        "outputId": "79dc02a8-8ea2-49df-b423-4b1ed581cfd4"
      },
      "execution_count": 6,
      "outputs": [
        {
          "output_type": "stream",
          "name": "stdout",
          "text": [
            "Enter number of rows: 3\n",
            "Enter number of columns: 3\n",
            "Matrix 1:\n",
            "Enter the elements of the 3x3 matrix:\n",
            "Row 1: 1 2 3\n",
            "Row 2: 5 6 7\n",
            "Row 3: 3 7 9\n",
            "Matrix 2:\n",
            "Enter the elements of the 3x3 matrix:\n",
            "Row 1: 1 4 3\n",
            "Row 2: 5 6 9\n",
            "Row 3: 3 4 9\n",
            "\n",
            "Matrix 1:\n",
            "[1, 2, 3]\n",
            "[5, 6, 7]\n",
            "[3, 7, 9]\n",
            "\n",
            "Matrix 2:\n",
            "[1, 4, 3]\n",
            "[5, 6, 9]\n",
            "[3, 4, 9]\n",
            "\n",
            "Resultant Matrix after Addition:\n",
            "[2, 6, 6]\n",
            "[10, 12, 16]\n",
            "[6, 11, 18]\n"
          ]
        }
      ]
    },
    {
      "cell_type": "markdown",
      "source": [
        "Multiplication of Matrices\n"
      ],
      "metadata": {
        "id": "YBJ313XnUmKs"
      }
    },
    {
      "cell_type": "code",
      "source": [
        "import numpy as np\n",
        "\n",
        "def create_random_matrix(n):\n",
        "    return np.random.randint(1, 10, (n, n))\n",
        "\n",
        "def matrix_multiplication(matrix_a, matrix_b):\n",
        "    return np.dot(matrix_a, matrix_b)\n",
        "\n",
        "def main():\n",
        "    n = int(input(\"Enter the size of the matrices (n): \"))\n",
        "\n",
        "\n",
        "    matrix_a = create_random_matrix(n)\n",
        "    matrix_b = create_random_matrix(n)\n",
        "\n",
        "    print(\"Matrix A:\")\n",
        "    print(matrix_a)\n",
        "\n",
        "    print(\"\\nMatrix B:\")\n",
        "    print(matrix_b)\n",
        "\n",
        "\n",
        "    result = matrix_multiplication(matrix_a, matrix_b)\n",
        "\n",
        "    print(\"\\nResult of A x B:\")\n",
        "    print(result)\n",
        "\n",
        "if __name__ == \"__main__\":\n",
        "    main()\n"
      ],
      "metadata": {
        "colab": {
          "base_uri": "https://localhost:8080/"
        },
        "id": "JO5d_46MUsIl",
        "outputId": "a38a0717-8895-45ac-e606-9d78131799f4"
      },
      "execution_count": 7,
      "outputs": [
        {
          "output_type": "stream",
          "name": "stdout",
          "text": [
            "Enter the size of the matrices (n): 2\n",
            "Matrix A:\n",
            "[[7 8]\n",
            " [8 7]]\n",
            "\n",
            "Matrix B:\n",
            "[[4 4]\n",
            " [5 1]]\n",
            "\n",
            "Result of A x B:\n",
            "[[68 36]\n",
            " [67 39]]\n"
          ]
        }
      ]
    }
  ]
}